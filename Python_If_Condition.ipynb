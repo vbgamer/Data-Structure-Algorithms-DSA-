{
  "nbformat": 4,
  "nbformat_minor": 0,
  "metadata": {
    "colab": {
      "provenance": [],
      "authorship_tag": "ABX9TyOoq9Wf+vyAlLFFSFPbRIwE",
      "include_colab_link": true
    },
    "kernelspec": {
      "name": "python3",
      "display_name": "Python 3"
    },
    "language_info": {
      "name": "python"
    }
  },
  "cells": [
    {
      "cell_type": "markdown",
      "metadata": {
        "id": "view-in-github",
        "colab_type": "text"
      },
      "source": [
        "<a href=\"https://colab.research.google.com/github/vbgamer/Data-Structure-Algorithms-DSA-/blob/main/Python_If_Condition.ipynb\" target=\"_parent\"><img src=\"https://colab.research.google.com/assets/colab-badge.svg\" alt=\"Open In Colab\"/></a>"
      ]
    },
    {
      "cell_type": "markdown",
      "source": [
        "1. Using following list of cities per country,\n",
        "india = [\"mumbai\", \"banglore\", \"chennai\", \"delhi\"]\n",
        "pakistan = [\"lahore\",\"karachi\",\"islamabad\"]\n",
        "bangladesh = [\"dhaka\", \"khulna\", \"rangpur\"]\n",
        "\n",
        "  Write a program that asks user to enter a city name and it should tell which country the city belongs to\n",
        "\n",
        "  Write a program that asks user to enter two cities and it tells you if they both are in same country or not. For example if I enter mumbai and chennai, it will print \"Both cities are in India\" but if I enter mumbai and dhaka it should print \"They don't belong to same country\""
      ],
      "metadata": {
        "id": "PNeKh8270ECf"
      }
    },
    {
      "cell_type": "code",
      "source": [
        "india = [\"mumbai\", \"banglore\", \"chennai\", \"delhi\"]\n",
        "pakistan = [\"lahore\", \"karachi\", \"islamabad\"]\n",
        "bangladesh = [\"dhaka\", \"khulna\", \"rangpur\"]\n",
        "\n",
        "city = input(\"Enter city name: \")\n",
        "\n",
        "if city in india:\n",
        "    print(f\"{city} is in india\")\n",
        "elif city in pakistan:\n",
        "    print(f\"{city} is in pakistan\")\n",
        "elif city in bangladesh:\n",
        "    print(f\"{city} is in bangladesh\")\n",
        "else:\n",
        "    print(f\"I won't be able to tell you which country {city} is in! Sorry!\")"
      ],
      "metadata": {
        "colab": {
          "base_uri": "https://localhost:8080/"
        },
        "id": "u2_CuiZL3AEp",
        "outputId": "dd6ea70c-a86d-4f3b-8bc7-630a0ce1ddae"
      },
      "execution_count": null,
      "outputs": [
        {
          "output_type": "stream",
          "name": "stdout",
          "text": [
            "Enter city name: mumbai\n",
            "mumbai is in india\n"
          ]
        }
      ]
    },
    {
      "cell_type": "code",
      "source": [
        "\n",
        "india = [\"mumbai\", \"banglore\", \"chennai\", \"delhi\"]\n",
        "pakistan = [\"lahore\", \"karachi\", \"islamabad\"]\n",
        "bangladesh = [\"dhaka\", \"khulna\", \"rangpur\"]\n",
        "\n",
        "# Function to find which country a city belongs to\n",
        "def find_country(city):\n",
        "    if city.lower() in india:\n",
        "        return \"India\"\n",
        "    elif city.lower() in pakistan:\n",
        "        return \"Pakistan\"\n",
        "    elif city.lower() in bangladesh:\n",
        "        return \"Bangladesh\"\n",
        "    else:\n",
        "        return None\n",
        "\n",
        "# Function to check if two cities are in the same country\n",
        "def are_cities_in_same_country(city1, city2):\n",
        "    country1 = find_country(city1)\n",
        "    country2 = find_country(city2)\n",
        "\n",
        "    if country1 and country2:\n",
        "        if country1 == country2:\n",
        "            return f\"Both cities are in {country1}.\"\n",
        "        else:\n",
        "            return \"They don't belong to the same country.\"\n",
        "    else:\n",
        "        return \"At least one of the cities is not in the list.\"\n",
        "\n",
        "# Main program\n",
        "while True:\n",
        "    print(\"\\nMenu:\")\n",
        "    print(\"1. Find the country of a city\")\n",
        "    print(\"2. Check if two cities are in the same country\")\n",
        "    print(\"3. Exit\")\n",
        "    choice = input(\"Enter your choice (1/2/3): \")\n",
        "\n",
        "    if choice == '1':\n",
        "        city = input(\"Enter the city name: \").strip()\n",
        "        country = find_country(city)\n",
        "        if country:\n",
        "            print(f\"{city} belongs to {country}.\")\n",
        "        else:\n",
        "            print(f\"{city} is not in the list.\")\n",
        "    elif choice == '2':\n",
        "        city1 = input(\"Enter the first city name: \").strip()\n",
        "        city2 = input(\"Enter the second city name: \").strip()\n",
        "        result = are_cities_in_same_country(city1, city2)\n",
        "        print(result)\n",
        "    elif choice == '3':\n",
        "        print(\"Goodbye!\")\n",
        "        break\n",
        "    else:\n",
        "        print(\"Invalid choice. Please try again.\")\n"
      ],
      "metadata": {
        "colab": {
          "base_uri": "https://localhost:8080/"
        },
        "id": "97wLFtH_6OJo",
        "outputId": "2a58575c-5e49-44b6-d8c4-82a048e02758"
      },
      "execution_count": null,
      "outputs": [
        {
          "output_type": "stream",
          "name": "stdout",
          "text": [
            "\n",
            "Menu:\n",
            "1. Find the country of a city\n",
            "2. Check if two cities are in the same country\n",
            "3. Exit\n",
            "Enter your choice (1/2/3): 2\n",
            "Enter the first city name: mumbai\n",
            "Enter the second city name: lahore\n",
            "They don't belong to the same country.\n",
            "\n",
            "Menu:\n",
            "1. Find the country of a city\n",
            "2. Check if two cities are in the same country\n",
            "3. Exit\n",
            "Enter your choice (1/2/3): mumbai\n",
            "Invalid choice. Please try again.\n",
            "\n",
            "Menu:\n",
            "1. Find the country of a city\n",
            "2. Check if two cities are in the same country\n",
            "3. Exit\n",
            "Enter your choice (1/2/3): delhi\n",
            "Invalid choice. Please try again.\n",
            "\n",
            "Menu:\n",
            "1. Find the country of a city\n",
            "2. Check if two cities are in the same country\n",
            "3. Exit\n",
            "Enter your choice (1/2/3): mumbai\n",
            "Invalid choice. Please try again.\n",
            "\n",
            "Menu:\n",
            "1. Find the country of a city\n",
            "2. Check if two cities are in the same country\n",
            "3. Exit\n",
            "Enter your choice (1/2/3): delhi\n",
            "Invalid choice. Please try again.\n",
            "\n",
            "Menu:\n",
            "1. Find the country of a city\n",
            "2. Check if two cities are in the same country\n",
            "3. Exit\n",
            "Enter your choice (1/2/3): dhaka\n",
            "Invalid choice. Please try again.\n",
            "\n",
            "Menu:\n",
            "1. Find the country of a city\n",
            "2. Check if two cities are in the same country\n",
            "3. Exit\n",
            "Enter your choice (1/2/3): khulna\n",
            "Invalid choice. Please try again.\n",
            "\n",
            "Menu:\n",
            "1. Find the country of a city\n",
            "2. Check if two cities are in the same country\n",
            "3. Exit\n",
            "Enter your choice (1/2/3): 3\n",
            "Goodbye!\n"
          ]
        }
      ]
    },
    {
      "cell_type": "markdown",
      "source": [
        "2. Write a python program that can tell you if your sugar is normal or not. Normal fasting level sugar range is 80 to 100.\n",
        "Ask user to enter his fasting sugar level\n",
        "If it is below 80 to 100 range then print that sugar is low\n",
        "If it is above 100 then print that it is high otherwise print that it is normal"
      ],
      "metadata": {
        "id": "tL9eyPpVr2fr"
      }
    },
    {
      "cell_type": "code",
      "source": [
        "sugar = int(input('Enter your sugar level: '))\n",
        "\n",
        "if sugar < 80:\n",
        "  print('Your sugar is low')\n",
        "elif sugar > 100:\n",
        "  print('Your sugar is high')\n",
        "else:\n",
        "  print('Your sugar is normal')"
      ],
      "metadata": {
        "colab": {
          "base_uri": "https://localhost:8080/"
        },
        "id": "Uzv6q5b4r15r",
        "outputId": "c3923b3b-2eaa-4736-ca39-d2497f21bf1d"
      },
      "execution_count": 3,
      "outputs": [
        {
          "output_type": "stream",
          "name": "stdout",
          "text": [
            "Enter your sugar level: 75\n",
            "Your sugar is low\n"
          ]
        }
      ]
    }
  ]
}