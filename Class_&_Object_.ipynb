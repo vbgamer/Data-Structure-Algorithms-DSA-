{
  "nbformat": 4,
  "nbformat_minor": 0,
  "metadata": {
    "colab": {
      "provenance": [],
      "authorship_tag": "ABX9TyPBEukuyXqV6dSqGPJ0S5VY",
      "include_colab_link": true
    },
    "kernelspec": {
      "name": "python3",
      "display_name": "Python 3"
    },
    "language_info": {
      "name": "python"
    }
  },
  "cells": [
    {
      "cell_type": "markdown",
      "metadata": {
        "id": "view-in-github",
        "colab_type": "text"
      },
      "source": [
        "<a href=\"https://colab.research.google.com/github/vbgamer/Data-Structure-Algorithms-DSA-/blob/main/Class_%26_Object_.ipynb\" target=\"_parent\"><img src=\"https://colab.research.google.com/assets/colab-badge.svg\" alt=\"Open In Colab\"/></a>"
      ]
    },
    {
      "cell_type": "markdown",
      "source": [
        "1. Write a Python program to create a Vehicle class with max_speed and mileage instance attributes."
      ],
      "metadata": {
        "id": "Tg4UKaNpYS_w"
      }
    },
    {
      "cell_type": "code",
      "source": [
        "class max_speed:\n",
        "  def __init__(self,max_speed_value , mileage):\n",
        "    self.max_speed = max_speed_value\n",
        "    self.mileage = mileage\n",
        "\n",
        "model = max_speed(110,18)\n",
        "print(model.max_speed, model.mileage)"
      ],
      "metadata": {
        "colab": {
          "base_uri": "https://localhost:8080/"
        },
        "id": "g5n6TLWnYU6K",
        "outputId": "215c334a-23ac-4ce7-d88a-4f1045821280"
      },
      "execution_count": null,
      "outputs": [
        {
          "output_type": "stream",
          "name": "stdout",
          "text": [
            "110 18\n"
          ]
        }
      ]
    },
    {
      "cell_type": "markdown",
      "source": [
        "2. Create a Vehicle class without any variables and methods"
      ],
      "metadata": {
        "id": "YMb_eS3cZbmt"
      }
    },
    {
      "cell_type": "code",
      "source": [
        "class Vehicle:\n",
        "  pass"
      ],
      "metadata": {
        "id": "66idpbijZDVG"
      },
      "execution_count": null,
      "outputs": []
    },
    {
      "cell_type": "markdown",
      "source": [
        "3. Create a child class Bus that will inherit all of the variables and methods of the Vehicle class\n",
        "\n",
        "Given:\n",
        "\n",
        "class Vehicle:\n",
        "\n",
        "    def __init__(self, name, max_speed, mileage):\n",
        "        self.name = name\n",
        "        self.max_speed = max_speed\n",
        "        self.mileage = mileage"
      ],
      "metadata": {
        "id": "8j0oE1dmZtNV"
      }
    },
    {
      "cell_type": "code",
      "source": [
        "class Vehicle:\n",
        "  def __init__(self, name, max_speed, mileage):\n",
        "    self.name = name\n",
        "    self.max_speed = max_speed\n",
        "    self.mileage = mileage\n",
        "\n",
        "class Bus(Vehicle):\n",
        "\n",
        " school_bus = Bus('School Volvo',180,12)\n",
        "print(\"Vehicle Name:\", School_bus.name, \"Speed:\", School_bus.max_speed, \"Mileage:\", School_bus.mileage)"
      ],
      "metadata": {
        "colab": {
          "base_uri": "https://localhost:8080/"
        },
        "id": "wgCHNajeZjry",
        "outputId": "c2c870fc-f64b-41ab-be71-bb426983471f"
      },
      "execution_count": null,
      "outputs": [
        {
          "output_type": "stream",
          "name": "stdout",
          "text": [
            "Vehicle Name: School Volvo Speed: 180 Mileage: 12\n"
          ]
        }
      ]
    }
  ]
}