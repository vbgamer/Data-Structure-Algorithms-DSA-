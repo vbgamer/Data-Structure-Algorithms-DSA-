{
  "nbformat": 4,
  "nbformat_minor": 0,
  "metadata": {
    "colab": {
      "provenance": [],
      "authorship_tag": "ABX9TyMKyI2RVsXiBi9ui+0oqrd2",
      "include_colab_link": true
    },
    "kernelspec": {
      "name": "python3",
      "display_name": "Python 3"
    },
    "language_info": {
      "name": "python"
    }
  },
  "cells": [
    {
      "cell_type": "markdown",
      "metadata": {
        "id": "view-in-github",
        "colab_type": "text"
      },
      "source": [
        "<a href=\"https://colab.research.google.com/github/vbgamer/Data-Structure-Algorithms-DSA-/blob/main/For_Loop.ipynb\" target=\"_parent\"><img src=\"https://colab.research.google.com/assets/colab-badge.svg\" alt=\"Open In Colab\"/></a>"
      ]
    },
    {
      "cell_type": "markdown",
      "source": [
        "1. After flipping a coin 10 times you got this result,\n",
        "result = [\"heads\",\"tails\",\"tails\",\"heads\",\"tails\",\"heads\",\"heads\",\"tails\",\"tails\",\"tails\"]\n",
        "Using for loop figure out how many times you got heads"
      ],
      "metadata": {
        "id": "u3R-yJw4tPd1"
      }
    },
    {
      "cell_type": "code",
      "execution_count": 11,
      "metadata": {
        "colab": {
          "base_uri": "https://localhost:8080/"
        },
        "id": "SFOMb96FtMDv",
        "outputId": "b9e94826-857d-4e81-aea0-22b58ff4296a"
      },
      "outputs": [
        {
          "output_type": "stream",
          "name": "stdout",
          "text": [
            "result for heads in coins 4\n"
          ]
        }
      ],
      "source": [
        "result = [\"heads\",\"tails\",\"tails\",\"heads\",\"tails\",\"heads\",\"heads\",\"tails\",\"tails\",\"tails\"]\n",
        "count = 0\n",
        "for item in result:\n",
        "    if item  == \"heads\":\n",
        "        count += 1\n",
        "print('result for heads in coins', count)\n"
      ]
    },
    {
      "cell_type": "markdown",
      "source": [
        "2. Print square of all numbers between 1 to 10 except even numbers"
      ],
      "metadata": {
        "id": "PZL3QQrGuk2z"
      }
    },
    {
      "cell_type": "code",
      "source": [
        "for i in range(1,11):\n",
        "  if i % 2 != 0:\n",
        "    print(i*i)"
      ],
      "metadata": {
        "colab": {
          "base_uri": "https://localhost:8080/"
        },
        "id": "OlZ-pcuRuEP8",
        "outputId": "7dbda2e2-26a9-4334-b9b1-2e40cecf499c"
      },
      "execution_count": 26,
      "outputs": [
        {
          "output_type": "stream",
          "name": "stdout",
          "text": [
            "1\n",
            "9\n",
            "25\n",
            "49\n",
            "81\n"
          ]
        }
      ]
    },
    {
      "cell_type": "markdown",
      "source": [
        "3. Your monthly expense list (from Jan to May) looks like this,\n",
        "expense_list = [2340, 2500, 2100, 3100, 2980]\n",
        "Write a program that asks you to enter an expense amount and program should tell you in which month that expense occurred. If expense is not found then it should print that as well."
      ],
      "metadata": {
        "id": "aR8YrcMUwP18"
      }
    },
    {
      "cell_type": "code",
      "source": [
        "expense = [2340, 2500, 2100, 3100, 2980]\n",
        "month_names = [\"Jan\",\"Feb\",\"MAr\",\"Apr\",\"May\"]\n",
        "\n",
        "a = input(\"Enter your expense amt: \")\n",
        "a = int(a)\n",
        "\n",
        "month = -1\n",
        "for i in range(len(expense)):\n",
        "  if a == expense[i]:\n",
        "    month_index = i\n",
        "    break\n",
        "if month_index != -1:\n",
        "    print(f'You spent {a} in {month_names[month_index]}')\n",
        "else:\n",
        "    print(f'You did not spend {a} in any month')\n",
        "\n"
      ],
      "metadata": {
        "colab": {
          "base_uri": "https://localhost:8080/"
        },
        "id": "dCEcYrFuwJ2q",
        "outputId": "964fed72-9536-4471-88e8-ba98a602ca14"
      },
      "execution_count": 38,
      "outputs": [
        {
          "output_type": "stream",
          "name": "stdout",
          "text": [
            "Enter your expense amt: 2500\n",
            "You spent 2500 in Feb\n"
          ]
        }
      ]
    },
    {
      "cell_type": "markdown",
      "source": [
        "5. Lets say you are running a 5 km race. Write a program that,\n",
        "\n",
        "Upon completing each 1 km asks you \"are you tired?\"\n",
        "If you reply \"yes\" then it should break and print \"you didn't finish the race\"\n",
        "If you reply \"no\" then it should continue and ask \"are you tired\" on every km\n",
        "If you finish all 5 km then it should print congratulations message"
      ],
      "metadata": {
        "id": "UyznW_5Oy1Rz"
      }
    },
    {
      "cell_type": "code",
      "source": [
        "for i in range(5):\n",
        "  print(f'You ran {i+1} km')\n",
        "  tired = input('Are you tried')\n",
        "  if tired == 'yes':\n",
        "    break\n",
        "\n",
        "if i ==4 :\n",
        "  print(' Congrats you finished the Race')\n",
        "else:\n",
        "  print(f'You ran {i+1}km')"
      ],
      "metadata": {
        "colab": {
          "base_uri": "https://localhost:8080/"
        },
        "id": "m8xs7PUTx61h",
        "outputId": "5563c5f7-8246-4630-d15a-1f9a60c1095c"
      },
      "execution_count": 46,
      "outputs": [
        {
          "output_type": "stream",
          "name": "stdout",
          "text": [
            "You ran 1 km\n",
            "Are you triedno\n",
            "You ran 2 km\n",
            "Are you triedno\n",
            "You ran 3 km\n",
            "Are you triedno\n",
            "You ran 4 km\n",
            "Are you triedno\n",
            "You ran 5 km\n",
            "Are you triedno\n",
            " Congrats you finished the Race\n"
          ]
        }
      ]
    },
    {
      "cell_type": "markdown",
      "source": [
        "5. Write a program that prints following shape\n",
        "\n",
        "*\n",
        "**\n",
        "***\n",
        "****\n",
        "*****"
      ],
      "metadata": {
        "id": "hWm6QN0F0Q7D"
      }
    },
    {
      "cell_type": "code",
      "source": [
        "for i in range (1,6):\n",
        "  a =''\n",
        "  for j in range(i):\n",
        "    a += '*'\n",
        "  print(a)"
      ],
      "metadata": {
        "colab": {
          "base_uri": "https://localhost:8080/"
        },
        "id": "riF8QOkgzJF_",
        "outputId": "a1af6203-41b0-4d32-ee3d-ebd78d425b4f"
      },
      "execution_count": 52,
      "outputs": [
        {
          "output_type": "stream",
          "name": "stdout",
          "text": [
            "*\n",
            "**\n",
            "***\n",
            "****\n",
            "*****\n"
          ]
        }
      ]
    }
  ]
}