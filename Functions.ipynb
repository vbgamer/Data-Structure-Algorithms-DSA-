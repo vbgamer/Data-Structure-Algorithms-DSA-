{
  "nbformat": 4,
  "nbformat_minor": 0,
  "metadata": {
    "colab": {
      "provenance": [],
      "authorship_tag": "ABX9TyNRzDpoxZMJfh8iSsOhN9hV",
      "include_colab_link": true
    },
    "kernelspec": {
      "name": "python3",
      "display_name": "Python 3"
    },
    "language_info": {
      "name": "python"
    }
  },
  "cells": [
    {
      "cell_type": "markdown",
      "metadata": {
        "id": "view-in-github",
        "colab_type": "text"
      },
      "source": [
        "<a href=\"https://colab.research.google.com/github/vbgamer/Data-Structure-Algorithms-DSA-/blob/main/Functions.ipynb\" target=\"_parent\"><img src=\"https://colab.research.google.com/assets/colab-badge.svg\" alt=\"Open In Colab\"/></a>"
      ]
    },
    {
      "cell_type": "markdown",
      "source": [
        "1. Write a function called calculate_area that takes base and height as an input and returns and area of a triangle. Equation of an area of a triangle is,\n",
        "\n",
        "area = (1/2)*base*height"
      ],
      "metadata": {
        "id": "6Pw-iNPQ4uYS"
      }
    },
    {
      "cell_type": "code",
      "execution_count": 5,
      "metadata": {
        "colab": {
          "base_uri": "https://localhost:8080/"
        },
        "id": "8yhGEMq-4quN",
        "outputId": "d622a2e3-1921-445c-a9ba-40ce7b56cd58"
      },
      "outputs": [
        {
          "name": "stdout",
          "output_type": "stream",
          "text": [
            "Enter the base10\n",
            "Enter the height10\n"
          ]
        },
        {
          "output_type": "execute_result",
          "data": {
            "text/plain": [
              "50.0"
            ]
          },
          "metadata": {},
          "execution_count": 5
        }
      ],
      "source": [
        "def calculate_area(base,height):\n",
        "  area = (1/2)*base*height\n",
        "  return area\n",
        "\n",
        "base = float (input('Enter the base'))\n",
        "height = float (input('Enter the height'))\n",
        "calculate_area(base,height)"
      ]
    },
    {
      "cell_type": "markdown",
      "source": [
        "2. Modify above function to take third parameter shape type. It can be either \"triangle\" or \"rectangle\". Based on shape type it will calculate area. Equation of rectangle's area is,\n",
        "rectangle area=length*width"
      ],
      "metadata": {
        "id": "rHlOpC1_6I7-"
      }
    },
    {
      "cell_type": "code",
      "source": [
        "def calculate_area(base,height, shape):\n",
        "  if shape == 'triangle':\n",
        "    area = (1/2)*base*height\n",
        "  elif shape == 'rectangle':\n",
        "    area = base  * height\n",
        "  else:\n",
        "    area = (1/2)*base*height\n",
        "  return area\n",
        "\n",
        "\n",
        "try:\n",
        "    shape_type = input(\"Enter the shape type ('triangle' or 'rectangle'): \").strip().lower()\n",
        "    base = float(input(\"Enter the base (or length for rectangle): \"))\n",
        "    height = float(input(\"Enter the height (or width for rectangle): \"))\n",
        "\n",
        "\n",
        "\n",
        "\n",
        "    area = calculate_area(base,height,shape_type)\n",
        "    print('Tne area ', shape_type, 'is', area)\n",
        "except ValueError:\n",
        "    print('Invalid input. Please enter valid numbers for base and height.')"
      ],
      "metadata": {
        "colab": {
          "base_uri": "https://localhost:8080/"
        },
        "id": "58Ix2cDS5zGL",
        "outputId": "2d128874-e2db-401f-ee53-f7b69d9d5014"
      },
      "execution_count": 23,
      "outputs": [
        {
          "output_type": "stream",
          "name": "stdout",
          "text": [
            "Enter the shape type ('triangle' or 'rectangle'): rectangle\n",
            "Enter the base (or length for rectangle): 20\n",
            "Enter the height (or width for rectangle): 10\n",
            "Tne area  rectangle is 200.0\n"
          ]
        }
      ]
    },
    {
      "cell_type": "markdown",
      "source": [
        "3. Write a function called print_pattern that takes integer number as an argument and prints following pattern if input number is 3,\n",
        "*\n",
        "**\n",
        "***\n",
        "if input is 4 then it should print\n",
        "\n",
        "*\n",
        "**\n",
        "***\n",
        "****\n",
        "Basically number of lines it prints is equal to that number. (Hint: you need to use two for loops)"
      ],
      "metadata": {
        "id": "LZj2EpR3BMFJ"
      }
    },
    {
      "cell_type": "code",
      "source": [
        "def print_pattern(num):\n",
        "   for i in range(1,num+1):\n",
        "    for j in range(i):\n",
        "      print('*',end ='')\n",
        "    print()\n",
        "\n",
        "num = int(input('Enter the Number'))\n",
        "print_pattern(num)"
      ],
      "metadata": {
        "colab": {
          "base_uri": "https://localhost:8080/"
        },
        "id": "QZYEnE5xAY6_",
        "outputId": "fab88b1e-cc86-4b85-bc64-a577ac30cfcd"
      },
      "execution_count": 34,
      "outputs": [
        {
          "output_type": "stream",
          "name": "stdout",
          "text": [
            "Enter the Number8\n",
            "*\n",
            "**\n",
            "***\n",
            "****\n",
            "*****\n",
            "******\n",
            "*******\n",
            "********\n"
          ]
        }
      ]
    }
  ]
}