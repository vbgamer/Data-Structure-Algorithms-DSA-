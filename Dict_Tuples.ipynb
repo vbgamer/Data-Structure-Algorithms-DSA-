{
  "nbformat": 4,
  "nbformat_minor": 0,
  "metadata": {
    "colab": {
      "provenance": [],
      "authorship_tag": "ABX9TyOPQYpI+01p5dcYTulrPLUn",
      "include_colab_link": true
    },
    "kernelspec": {
      "name": "python3",
      "display_name": "Python 3"
    },
    "language_info": {
      "name": "python"
    }
  },
  "cells": [
    {
      "cell_type": "markdown",
      "metadata": {
        "id": "view-in-github",
        "colab_type": "text"
      },
      "source": [
        "<a href=\"https://colab.research.google.com/github/vbgamer/Data-Structure-Algorithms-DSA-/blob/main/Dict_Tuples.ipynb\" target=\"_parent\"><img src=\"https://colab.research.google.com/assets/colab-badge.svg\" alt=\"Open In Colab\"/></a>"
      ]
    },
    {
      "cell_type": "markdown",
      "source": [
        "1. We have following information on countries and their population (population is in crores),\n",
        "\n",
        "Country\tPopulation\n",
        "China\t143\n",
        "India\t136\n",
        "USA\t32\n",
        "Pakistan\t21\n",
        "\n",
        "Using above create a dictionary of countries and its population\n",
        "\n",
        "Write a program that asks user for three type of inputs,\n",
        "print: if user enter print then it should print all countries with their population in this format,\n",
        "china==>143\n",
        "india==>136\n",
        "usa==>32\n",
        "pakistan==>21\n",
        "\n",
        "add: if user input add then it should further ask for a country name to add. If country already exist in our dataset then it should print that it exist and do nothing. If it doesn't then it asks for population and add that new country/population in our dictionary and print it\n",
        "\n",
        "remove: when user inputs remove it should ask for a country to remove. If country exist in our dictionary then remove it and print new dictionary using format shown above in (a). Else print that country doesn't exist!\n",
        "\n",
        "query: on this again ask user for which country he or she wants to query. When user inputs that country it will print population of that country."
      ],
      "metadata": {
        "id": "1lHHgKYiKdap"
      }
    },
    {
      "cell_type": "code",
      "execution_count": 37,
      "metadata": {
        "colab": {
          "base_uri": "https://localhost:8080/"
        },
        "id": "GEYMwWpOKcr7",
        "outputId": "6ff83610-7e17-4e38-892d-35e10870cb31"
      },
      "outputs": [
        {
          "output_type": "stream",
          "name": "stdout",
          "text": [
            "{'China': '143', 'India': '136', 'USA': '32', 'Pakistan': '21'}\n"
          ]
        }
      ],
      "source": [
        "dict = {\n",
        "    \"China\": \"143\",\n",
        "    \"India\": \"136\",\n",
        "    \"USA\": \"32\",\n",
        "    \"Pakistan\": \"21\"\n",
        "}\n",
        "print(dict)"
      ]
    },
    {
      "cell_type": "code",
      "source": [
        "print('Wellcome')\n",
        "def add():\n",
        "  if user =='add':\n",
        "    country = input('Enter the country name to add:')\n",
        "    population = input('Enter the population:')\n",
        "  if country in dict :\n",
        "    print('country already exist')\n",
        "  else:\n",
        "    dict[country] = population\n",
        "    print(dict)\n",
        "def remove():\n",
        "    country = input(\"Enter country name to remove:\")\n",
        "    country = country.lower()\n",
        "    if country not in population:\n",
        "        print(\"Country doesn't exist in our dataset. Terminating\")\n",
        "\n",
        "        return\n",
        "    del population[country]\n",
        "    print_all()\n",
        "\n",
        "def query():\n",
        "    country = input(\"Enter country name to query:\")\n",
        "    country = country.lower()\n",
        "    if country not in population:\n",
        "        print(\"Country doesn't exist in our dataset. Terminating\")\n",
        "        return\n",
        "    print(f\"Population of {country} is: {population[country]} crore\")\n",
        "\n",
        "def print_all():\n",
        "    for country, p in population.items():\n",
        "        print(f\"{country}==>{p}\")\n",
        "\n",
        "\n",
        "def main():\n",
        "    op=input(\"Enter operation (add, remove, query or print):\")\n",
        "    if op.lower() == 'add':\n",
        "        add()\n",
        "    elif op.lower() == 'remove':\n",
        "        remove()\n",
        "    elif op.lower() == 'query':\n",
        "        query()\n",
        "    elif op.lower() == 'print':\n",
        "        print_all()\n",
        "\n",
        "if __name__ == '__main__':\n",
        "    main()"
      ],
      "metadata": {
        "colab": {
          "base_uri": "https://localhost:8080/"
        },
        "id": "LnrV8scXMkVB",
        "outputId": "15d0d4ce-c477-4f47-cc98-824813321d05"
      },
      "execution_count": 45,
      "outputs": [
        {
          "output_type": "stream",
          "name": "stdout",
          "text": [
            "Wellcome\n",
            "Enter operation (add, remove, query or print):print\n",
            "india==>136\n",
            "usa==>32\n",
            "brazil==>32.0\n"
          ]
        }
      ]
    },
    {
      "cell_type": "markdown",
      "source": [
        "**ADD**\n",
        "\n",
        "Wellcome\n",
        "\n",
        "Enter operation (add, remove, query or print):add\n",
        "\n",
        "Enter the country name to add:chille\n",
        "\n",
        "Enter the population:15\n",
        "\n",
        "{'China': '143', 'India': '136', 'USA': '32', 'Pakistan': '21', 'chille': '15'}"
      ],
      "metadata": {
        "id": "khljfO9lYoCI"
      }
    },
    {
      "cell_type": "markdown",
      "source": [
        "**Remove**\n",
        "\n",
        "Wellcome\n",
        "\n",
        "Enter operation (add, remove, query or print):remove\n",
        "\n",
        "Enter country name to remove:China\n",
        "\n",
        "india==>136\n",
        "usa==>32\n",
        "brazil==>32.0"
      ],
      "metadata": {
        "id": "Em36JBphY82x"
      }
    },
    {
      "cell_type": "markdown",
      "source": [
        "**Query**\n",
        "\n",
        "Wellcome\n",
        "\n",
        "Enter operation (add, remove, query or print):query\n",
        "\n",
        "Enter country name to query:india\n",
        "\n",
        "Population of india is: 136 crore"
      ],
      "metadata": {
        "id": "pvtTwRWbZD3A"
      }
    },
    {
      "cell_type": "markdown",
      "source": [
        "2. You are given following list of stocks and their prices in last 3 days,\n",
        "\n",
        "Stock\tPrices\n",
        "info\t[600,630,620]\n",
        "ril\t[1430,1490,1567]\n",
        "mtl\t[234,180,160]\n",
        "\n",
        "Write a program that asks user for operation. Value of operations could be,\n",
        "print: When user enters print it should print following,\n",
        "\n",
        "info ==> [600, 630, 620] ==> avg:  616.67\n",
        "ril ==> [1430, 1490, 1567] ==> avg:  1495.67\n",
        "mtl ==> [234, 180, 160] ==> avg:  191.33\n",
        "\n",
        "add: When user enters 'add', it asks for stock ticker and price. If stock already exist in your list (like info, ril etc) then it will append the price to the list. Otherwise it will create new entry in your dictionary. For example entering 'tata' and 560 will add tata ==> [560] to the dictionary of stocks."
      ],
      "metadata": {
        "id": "zzq95VcQZWKF"
      }
    },
    {
      "cell_type": "code",
      "source": [
        "dict = {'info [600, 630, 620] ': 'avg:616.67',\n",
        "        'ril ==> [1430, 1490, 1567]': 'avg: 1495.67',\n",
        "        'mtl ==> [234, 180, 160]':' avg: 191.33'}\n",
        "print(dict)"
      ],
      "metadata": {
        "colab": {
          "base_uri": "https://localhost:8080/"
        },
        "id": "SGUAlS_7Z7A0",
        "outputId": "98f44c80-0aed-4710-b35b-beac35a80bf4"
      },
      "execution_count": 47,
      "outputs": [
        {
          "output_type": "stream",
          "name": "stdout",
          "text": [
            "{'info [600, 630, 620] ': 'avg:616.67', 'ril ==> [1430, 1490, 1567]': 'avg: 1495.67', 'mtl ==> [234, 180, 160]': ' avg: 191.33'}\n"
          ]
        }
      ]
    },
    {
      "cell_type": "code",
      "source": [
        "def add():\n",
        "  if user =='add':\n",
        "    stock = input('Enter the stock ticker  to add:')\n",
        "    price = input('Enter the price:')\n",
        "  if stock in dict :\n",
        "    print('stock  already exist')\n",
        "  else:\n",
        "    dict[stock] = price\n",
        "    print(dict)\n",
        "\n",
        "def print_all():\n",
        "    for Info, avg in dict.items():\n",
        "        print(f\"{Info}==>{avg}\")\n",
        "\n",
        "def main():\n",
        "    op = input(\"Enter operation (print or add):\")\n",
        "    if op == 'add':\n",
        "        add()\n",
        "    elif op == 'print':\n",
        "        print_all()\n",
        "\n",
        "if __name__ == '__main__':\n",
        "    main()"
      ],
      "metadata": {
        "colab": {
          "base_uri": "https://localhost:8080/"
        },
        "id": "EyyX_n71bBFc",
        "outputId": "f79df747-902c-4be0-c7be-e2714157cd4d"
      },
      "execution_count": 57,
      "outputs": [
        {
          "output_type": "stream",
          "name": "stdout",
          "text": [
            "Enter operation (print or add):add\n",
            "Enter the stock ticker  to add:bsnl\n",
            "Enter the price:1520,1780,965\n",
            "{'info [600, 630, 620] ': 'avg:616.67', 'ril ==> [1430, 1490, 1567]': 'avg: 1495.67', 'mtl ==> [234, 180, 160]': ' avg: 191.33', 'bsnl': '1520,1780,965'}\n"
          ]
        }
      ]
    },
    {
      "cell_type": "markdown",
      "source": [
        "Enter operation (print or add):print\n",
        "\n",
        "info [600, 630, 620] ==>avg:616.67\n",
        "\n",
        "ril ==> [1430, 1490, 1567]==>avg: 1495.67\n",
        "\n",
        "mtl ==> [234, 180, 160]==> avg: 191.33"
      ],
      "metadata": {
        "id": "_lUiaSoob_JD"
      }
    },
    {
      "cell_type": "code",
      "source": [],
      "metadata": {
        "id": "M7YBQjMvb4mb"
      },
      "execution_count": null,
      "outputs": []
    }
  ]
}