{
  "nbformat": 4,
  "nbformat_minor": 0,
  "metadata": {
    "colab": {
      "provenance": []
    },
    "kernelspec": {
      "name": "python3",
      "display_name": "Python 3"
    },
    "language_info": {
      "name": "python"
    }
  },
  "cells": [
    {
      "cell_type": "markdown",
      "source": [
        "STRING IN PYTHON"
      ],
      "metadata": {
        "id": "FpUBxtBOcg8p"
      }
    },
    {
      "cell_type": "markdown",
      "source": [
        "1. Create 3 variables to store street, city and country, now create address variable to store entire address. Use two ways of creating this variable, one using + operator and the other using f-string. Now Print the address in such a way that the street, city and country prints in a separate line"
      ],
      "metadata": {
        "id": "kIt0UdkGcqAz"
      }
    },
    {
      "cell_type": "code",
      "source": [
        "street = 'Khopat'\n",
        "city = 'Thane'\n",
        "country = 'India'\n",
        "str_1 = street\n",
        "str_2 = city\n",
        "str_3 = country\n",
        "address = str_1 + str_2+ str_3\n",
        "print('address:',address)\n",
        "address_fstring = f\"{street}\\n{city}\\n{country}\"\n",
        "print(address_fstring)\n"
      ],
      "metadata": {
        "colab": {
          "base_uri": "https://localhost:8080/"
        },
        "id": "rJyy3LtucnSD",
        "outputId": "03a6a268-39b3-4514-a7f1-0ace0926a4cb"
      },
      "execution_count": 5,
      "outputs": [
        {
          "output_type": "stream",
          "name": "stdout",
          "text": [
            "address: KhopatThaneIndia\n",
            "Khopat\n",
            "Thane\n",
            "India\n"
          ]
        }
      ]
    },
    {
      "cell_type": "markdown",
      "source": [
        "2. Create a variable to store the string \"Earth revolves around the sun\"\n",
        "Print \"revolves\" using slice operator\n",
        "Print \"sun\" using negative index"
      ],
      "metadata": {
        "id": "1GO1RNQBheBo"
      }
    },
    {
      "cell_type": "code",
      "source": [
        "var_1 = 'Earth revolves around the sun'\n",
        "print(var_1[6:14])\n",
        "print(var_1[-3:])"
      ],
      "metadata": {
        "colab": {
          "base_uri": "https://localhost:8080/"
        },
        "id": "6O03DK02dENc",
        "outputId": "0fc9a9fd-4daa-4801-ebc9-a906c1a15ee6"
      },
      "execution_count": 14,
      "outputs": [
        {
          "output_type": "stream",
          "name": "stdout",
          "text": [
            "revolves\n",
            "sun\n"
          ]
        }
      ]
    },
    {
      "cell_type": "markdown",
      "source": [
        "3. Create two variables to store how many fruits and vegetables you eat in day. Now Print \"I eat x veggies and y fruits daily\" where x and y presents vegetables and fruits that you eat everyday. Use python f string for this.\n"
      ],
      "metadata": {
        "id": "YGJQOv0micF3"
      }
    },
    {
      "cell_type": "code",
      "source": [
        "fruit = 20\n",
        "veggies = 15\n",
        "print_fstring= f\" I eat {veggies} and {fruit} daily\"\n",
        "print(print_fstring)\n"
      ],
      "metadata": {
        "colab": {
          "base_uri": "https://localhost:8080/"
        },
        "id": "CjVKad0eh705",
        "outputId": "38cf9856-d180-4345-a00d-6c9a7362a5c8"
      },
      "execution_count": 17,
      "outputs": [
        {
          "output_type": "stream",
          "name": "stdout",
          "text": [
            " I eat 15 and 20 daily\n"
          ]
        }
      ]
    },
    {
      "cell_type": "markdown",
      "source": [
        "4. I have a string variable called s='maine 200 banana khaye'. This of course is a wrong statement, the correct statement is 'maine 10 samosa khaye'. Replace incorrect words in original strong with new ones and print the new string. Also try to do this in one line"
      ],
      "metadata": {
        "id": "xQIUIyYejS91"
      }
    },
    {
      "cell_type": "code",
      "source": [
        "from os import replace\n",
        "s='maine 20 banana khaye'\n",
        "new = s.replace('20','10').replace('banana','samosa')\n",
        "print(new)"
      ],
      "metadata": {
        "colab": {
          "base_uri": "https://localhost:8080/"
        },
        "id": "3T1GoF0IjG0d",
        "outputId": "8a7fe918-4263-4963-dbf6-b51506832d9f"
      },
      "execution_count": 24,
      "outputs": [
        {
          "output_type": "stream",
          "name": "stdout",
          "text": [
            "maine 10 samosa khaye\n"
          ]
        }
      ]
    }
  ]
}