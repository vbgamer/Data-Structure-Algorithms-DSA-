{
  "nbformat": 4,
  "nbformat_minor": 0,
  "metadata": {
    "colab": {
      "provenance": []
    },
    "kernelspec": {
      "name": "python3",
      "display_name": "Python 3"
    },
    "language_info": {
      "name": "python"
    }
  },
  "cells": [
    {
      "cell_type": "markdown",
      "source": [
        "1. Find the Maximum Subarray Sum\n",
        "2. Rotate an Array by D Positions\n",
        "3. Merge Two Sorted Arrays\n",
        "4. Move Zeroes to the End\n",
        "5. Find the Majority Element\n",
        "6. Find the Missing Number in an Array\n",
        "7. Trapping Rain Water\n",
        "8. Search Element in Rotated Sorted Array"
      ],
      "metadata": {
        "id": "nK7i56lFwAx7"
      }
    },
    {
      "cell_type": "code",
      "source": [
        "def maximum_sub_array(arr):\n",
        "    n = arr[0]\n",
        "\n",
        "    for i in range(len(arr)):\n",
        "        currSum = 0\n",
        "        for j in range(i, len(arr)):\n",
        "            currSum = currSum + arr[j]\n",
        "            n = max(n, currSum)\n",
        "    return n\n",
        "\n",
        "if __name__ == \"__main__\":\n",
        "    arr = list(map(int, input(\" Enter the string\").split(',')))\n",
        "    print(\"The sum is \",maximum_sub_array(arr))"
      ],
      "metadata": {
        "colab": {
          "base_uri": "https://localhost:8080/",
          "height": 0
        },
        "id": "3XNVosIJwUVp",
        "outputId": "3344bbe3-e6f7-4436-a211-082d0a1a5811"
      },
      "execution_count": 6,
      "outputs": [
        {
          "output_type": "stream",
          "name": "stdout",
          "text": [
            " Enter the string1,-2,5,-9,7,6,3,-4\n",
            "The sum is  16\n"
          ]
        }
      ]
    },
    {
      "cell_type": "code",
      "source": [
        "def rotate_array(arr, d):\n",
        "    n = len(arr)\n",
        "\n",
        "    for i in range(d):\n",
        "        temp = arr[0]\n",
        "        for j in range(n-1):\n",
        "            arr[j] =arr[j+1]\n",
        "        arr[n-1] = temp\n",
        "\n",
        "if __name__ == \"__main__\":\n",
        "  arr = list(map(int,input(\"Enter the string\").split(',')))\n",
        "  d = int(input(\"Enter the difference\"))\n",
        "  rotate_array(arr, d)\n",
        "  print(rotate_array(arr, d))\n",
        "\n",
        "  for i in range(len(arr)):\n",
        "        print(arr[i], end=\" \")\n",
        "\n",
        "\n",
        "\n"
      ],
      "metadata": {
        "colab": {
          "base_uri": "https://localhost:8080/",
          "height": 0
        },
        "id": "QPHllVJjxlH3",
        "outputId": "03b4fe59-a1b3-48f4-8b9b-475a3930fcc2"
      },
      "execution_count": 15,
      "outputs": [
        {
          "output_type": "stream",
          "name": "stdout",
          "text": [
            "Enter the string1,2,3,4,5,6\n",
            "Enter the difference2\n",
            "None\n",
            "5 6 1 2 3 4 "
          ]
        }
      ]
    },
    {
      "source": [
        "def mere_array(arr1, arr2):\n",
        "  arr3 = arr1 + arr2\n",
        "  arr3.sort()\n",
        "  return arr3\n",
        "\n",
        "if __name__ == \"__main__\":\n",
        "  arr1 = list(map(int,input().split(',')))\n",
        "  arr2 = list(map(int,input().split(',')))\n",
        "\n",
        "  result = mere_array(arr1, arr2)\n",
        "  print(result)\n",
        "\n",
        "  for value in result:\n",
        "    print(value,end=\" \")"
      ],
      "cell_type": "code",
      "metadata": {
        "colab": {
          "base_uri": "https://localhost:8080/",
          "height": 0
        },
        "id": "OMW5S1XN3l-N",
        "outputId": "93b6cfc1-1dfa-40fc-c503-df56fa5fa642"
      },
      "execution_count": 18,
      "outputs": [
        {
          "output_type": "stream",
          "name": "stdout",
          "text": [
            "1,2,3,4,5\n",
            "6,7,8,9\n",
            "[1, 2, 3, 4, 5, 6, 7, 8, 9]\n",
            "1 2 3 4 5 6 7 8 9 "
          ]
        }
      ]
    }
  ]
}