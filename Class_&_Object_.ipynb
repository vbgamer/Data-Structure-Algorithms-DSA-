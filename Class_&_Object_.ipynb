{
  "nbformat": 4,
  "nbformat_minor": 0,
  "metadata": {
    "colab": {
      "provenance": [],
      "authorship_tag": "ABX9TyOFv2LVsoBjICu/pZl76xIy",
      "include_colab_link": true
    },
    "kernelspec": {
      "name": "python3",
      "display_name": "Python 3"
    },
    "language_info": {
      "name": "python"
    }
  },
  "cells": [
    {
      "cell_type": "markdown",
      "metadata": {
        "id": "view-in-github",
        "colab_type": "text"
      },
      "source": [
        "<a href=\"https://colab.research.google.com/github/vbgamer/Data-Structure-Algorithms-DSA-/blob/main/Class_%26_Object_.ipynb\" target=\"_parent\"><img src=\"https://colab.research.google.com/assets/colab-badge.svg\" alt=\"Open In Colab\"/></a>"
      ]
    },
    {
      "cell_type": "markdown",
      "source": [
        "1. Write a Python program to create a Vehicle class with max_speed and mileage instance attributes."
      ],
      "metadata": {
        "id": "Tg4UKaNpYS_w"
      }
    },
    {
      "cell_type": "code",
      "source": [
        "class max_speed:\n",
        "  def __init__(self,max_speed_value , mileage):\n",
        "    self.max_speed = max_speed_value\n",
        "    self.mileage = mileage\n",
        "\n",
        "model = max_speed(110,18)\n",
        "print(model.max_speed, model.mileage)"
      ],
      "metadata": {
        "colab": {
          "base_uri": "https://localhost:8080/"
        },
        "id": "g5n6TLWnYU6K",
        "outputId": "215c334a-23ac-4ce7-d88a-4f1045821280"
      },
      "execution_count": null,
      "outputs": [
        {
          "output_type": "stream",
          "name": "stdout",
          "text": [
            "110 18\n"
          ]
        }
      ]
    },
    {
      "cell_type": "markdown",
      "source": [
        "2. Create a Vehicle class without any variables and methods"
      ],
      "metadata": {
        "id": "YMb_eS3cZbmt"
      }
    },
    {
      "cell_type": "code",
      "source": [
        "class Vehicle:\n",
        "  pass"
      ],
      "metadata": {
        "id": "66idpbijZDVG"
      },
      "execution_count": null,
      "outputs": []
    },
    {
      "cell_type": "markdown",
      "source": [
        "3. Create a child class Bus that will inherit all of the variables and methods of the Vehicle class\n",
        "\n",
        "Given:\n",
        "\n",
        "class Vehicle:\n",
        "\n",
        "    def __init__(self, name, max_speed, mileage):\n",
        "        self.name = name\n",
        "        self.max_speed = max_speed\n",
        "        self.mileage = mileage"
      ],
      "metadata": {
        "id": "8j0oE1dmZtNV"
      }
    },
    {
      "cell_type": "code",
      "source": [
        "class Vehicle:\n",
        "  def __init__(self, name, max_speed, mileage):\n",
        "    self.name = name\n",
        "    self.max_speed = max_speed\n",
        "    self.mileage = mileage\n",
        "\n",
        "class Bus(Vehicle):\n",
        "\n",
        " school_bus = Bus('School Volvo',180,12)\n",
        "print(\"Vehicle Name:\", School_bus.name, \"Speed:\", School_bus.max_speed, \"Mileage:\", School_bus.mileage)"
      ],
      "metadata": {
        "colab": {
          "base_uri": "https://localhost:8080/"
        },
        "id": "wgCHNajeZjry",
        "outputId": "c2c870fc-f64b-41ab-be71-bb426983471f"
      },
      "execution_count": null,
      "outputs": [
        {
          "output_type": "stream",
          "name": "stdout",
          "text": [
            "Vehicle Name: School Volvo Speed: 180 Mileage: 12\n"
          ]
        }
      ]
    },
    {
      "cell_type": "markdown",
      "source": [
        "4. Shopping Cart System\n",
        "\n",
        "Create a class Product with attributes name and price.\n",
        "\n",
        "Create a class ShoppingCart with:\n",
        "An attribute cart (a list to hold Product objects).\n",
        "\n",
        "Methods:\n",
        "add_product(product) to add a product to the cart.\n",
        "\n",
        "remove_product(product_name) to remove a product by its name.\n",
        "\n",
        "calculate_total() to calculate the total price of all products.\n",
        "\n",
        "Add an optional feature to apply discounts"
      ],
      "metadata": {
        "id": "Y8YRpokMoLhv"
      }
    },
    {
      "cell_type": "code",
      "source": [
        "class Product: # Changed class name to Product\n",
        "  def __init__(self,name: str,price: float):\n",
        "    self.name = name\n",
        "    self.price = price\n",
        "\n",
        "    def  __str__(self):\n",
        "      return f\"({self.name}, price: ${self.price:.2f})\"\n",
        "\n",
        "class ShoppingCart: # Changed class name to ShoppingCart\n",
        "  def __init__(self):\n",
        "    self.cart = []\n",
        "\n",
        "  def add_product(self,product): # Corrected indentation\n",
        "    self.cart.append(product)\n",
        "    print(f\"{product.name} added to the cart.\")\n",
        "\n",
        "  def remove_product(self,product_name): # Corrected indentation\n",
        "    for product in self.cart:\n",
        "      if product.name == product_name:\n",
        "        self.cart.remove(product)\n",
        "        print(f\"{product_name} removed from cart\")\n",
        "        return\n",
        "    print(f'product {product_name} not found') # Corrected print message\n",
        "\n",
        "  def calculate_total(self, discount=0): # Added discount parameter\n",
        "    total = 0\n",
        "    for product in self.cart:\n",
        "      total += product.price\n",
        "    # Apply discount if provided\n",
        "    if discount > 0:\n",
        "        total -= total * (discount / 100)\n",
        "    return total # Return total outside the loop\n",
        "\n",
        "  def view_cart(self): # Corrected indentation\n",
        "    if not self.cart:\n",
        "      print(\"Your cart is empty.\")\n",
        "    else:\n",
        "      print(\"Products in your cart:\")\n",
        "      for product in self.cart:\n",
        "        print(product)\n",
        "    print()\n",
        "\n",
        "\n",
        "\n",
        "def main():\n",
        "\n",
        "    product1 = Product(\"Laptop\", 999.99)\n",
        "    product2 = Product(\"Headphones\", 49.99)\n",
        "    product3 = Product(\"Smartphone\", 699.99)\n",
        "    product4 = Product(\"Mouse\", 19.99)\n",
        "\n",
        "\n",
        "    cart = ShoppingCart()\n",
        "\n",
        "    cart.add_product(product1)\n",
        "    cart.add_product(product2)\n",
        "    cart.add_product(product3)\n",
        "\n",
        "    cart.view_cart()\n",
        "\n",
        "    cart.remove_product(\"Headphones\")\n",
        "    cart.view_cart()\n",
        "\n",
        "    print(f\"Total without discount: ${cart.calculate_total():.2f}\")\n",
        "    print(f\"Total with 10% discount: ${cart.calculate_total(discount=10):.2f}\")\n",
        "\n",
        "\n",
        "if __name__ == \"__main__\":\n",
        "    main()"
      ],
      "metadata": {
        "colab": {
          "base_uri": "https://localhost:8080/"
        },
        "id": "kUDB7ahUoLO8",
        "outputId": "088eae30-66ce-4cdc-f70d-62318fbf9688"
      },
      "execution_count": 4,
      "outputs": [
        {
          "output_type": "stream",
          "name": "stdout",
          "text": [
            "Laptop added to the cart.\n",
            "Headphones added to the cart.\n",
            "Smartphone added to the cart.\n",
            "Products in your cart:\n",
            "<__main__.Product object at 0x7b08316ae740>\n",
            "<__main__.Product object at 0x7b08316af880>\n",
            "<__main__.Product object at 0x7b08316aded0>\n",
            "\n",
            "Headphones removed from cart\n",
            "Products in your cart:\n",
            "<__main__.Product object at 0x7b08316ae740>\n",
            "<__main__.Product object at 0x7b08316aded0>\n",
            "\n",
            "Total without discount: $1699.98\n",
            "Total with 10% discount: $1529.98\n"
          ]
        }
      ]
    }
  ]
}