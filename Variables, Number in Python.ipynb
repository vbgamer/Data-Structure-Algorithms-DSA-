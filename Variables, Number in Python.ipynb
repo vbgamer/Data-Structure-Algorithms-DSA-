{
  "cells": [
    {
      "cell_type": "markdown",
      "source": [
        "VARIABLES"
      ],
      "metadata": {
        "id": "WkKuwa6rbOEx"
      }
    },
    {
      "cell_type": "markdown",
      "source": [
        "1. Create a variable called break and assign it a value 5. See what happens and find out the reason behind the behavior that you see"
      ],
      "metadata": {
        "id": "w2d8auN5mNkW"
      }
    },
    {
      "cell_type": "code",
      "source": [
        "break_var = 6"
      ],
      "metadata": {
        "id": "UI4bST3vmEle"
      },
      "execution_count": null,
      "outputs": []
    },
    {
      "cell_type": "markdown",
      "source": [
        "2. Create two variables. One to store your birth year and another one to store current year. Now calculate your age using these two variables"
      ],
      "metadata": {
        "id": "hIu8fvucmcuA"
      }
    },
    {
      "cell_type": "code",
      "source": [
        "birth_year = 2003\n",
        "current_year = 2024\n",
        "age = current_year - birth_year\n",
        "print(age)"
      ],
      "metadata": {
        "id": "a0sZW1_lmbFQ",
        "outputId": "e18eb94c-bbe8-42ca-fa74-85c3026c425f",
        "colab": {
          "base_uri": "https://localhost:8080/"
        }
      },
      "execution_count": null,
      "outputs": [
        {
          "output_type": "stream",
          "name": "stdout",
          "text": [
            "21\n"
          ]
        }
      ]
    },
    {
      "cell_type": "markdown",
      "source": [
        "3. Store your first, middle and last name in three different variables and then print your full name using these variables"
      ],
      "metadata": {
        "id": "ybw96k2pmwMG"
      }
    },
    {
      "cell_type": "code",
      "source": [
        "first_name = 'Vedant'\n",
        "second_name = 'Ramesh'\n",
        "first_name = 'Vedant'\n",
        "second_name = 'Ramesh'\n",
        "Last_name = 'Bhosale'\n",
        "print(first_name,second_name,Last_name)\n",
        "print('My first name is: ',first_name,second_name,Last_name)"
      ],
      "metadata": {
        "id": "y6UaNGPkms_o",
        "outputId": "a22cba23-4c43-4463-ca6f-dfdbc8225136",
        "colab": {
          "base_uri": "https://localhost:8080/"
        }
      },
      "execution_count": null,
      "outputs": [
        {
          "output_type": "stream",
          "name": "stdout",
          "text": [
            "Vedant Ramesh Bhosale\n",
            "My first name is:  Vedant Ramesh Bhosale\n"
          ]
        }
      ]
    },
    {
      "cell_type": "markdown",
      "source": [
        "4. Answer which of these are invalid variable names: \"_nation, 1record, record1, record_one, record-one, record^one, continue\""
      ],
      "metadata": {
        "id": "L0A7Yu2unlhO"
      }
    },
    {
      "cell_type": "code",
      "source": [
        "Valid variable names: _nation, record1, record_one"
      ],
      "metadata": {
        "id": "72DhicYSnHt7"
      },
      "execution_count": null,
      "outputs": []
    },
    {
      "cell_type": "markdown",
      "source": [
        "**Numbers in python**"
      ],
      "metadata": {
        "id": "8-YSwxrEbrzg"
      }
    },
    {
      "cell_type": "markdown",
      "source": [
        "1. You have a football field that is 92 meter long and 48.8 meter wide. Find out total area using python and print it."
      ],
      "metadata": {
        "id": "UN5S1ywRbEG-"
      }
    },
    {
      "cell_type": "code",
      "source": [
        "a = 92\n",
        "b = 48.8\n",
        "c = a*b\n",
        "print( 'Area of Football', c)"
      ],
      "metadata": {
        "colab": {
          "base_uri": "https://localhost:8080/"
        },
        "id": "VcjPNoJebFc6",
        "outputId": "902f8d47-10c7-4e99-a3ae-2bd4ce2e1b5e"
      },
      "execution_count": 1,
      "outputs": [
        {
          "output_type": "stream",
          "name": "stdout",
          "text": [
            "Area of Football 4489.599999999999\n"
          ]
        }
      ]
    },
    {
      "cell_type": "markdown",
      "source": [
        "2. You bought 9 packets of potato chips from a store. Each packet costs 1.49 dollar and you gave shopkeeper 20 dollar. Find out using python, how many dollars is the shopkeeper going to give you back?"
      ],
      "metadata": {
        "id": "M9m8CqPVcHeH"
      }
    },
    {
      "cell_type": "code",
      "source": [
        "a = 9\n",
        "b = 1.49\n",
        "c = 20\n",
        "d = a* b\n",
        "e = c-d\n",
        "print('Total cost :',d)\n",
        "print('Money given back:', e)\n"
      ],
      "metadata": {
        "colab": {
          "base_uri": "https://localhost:8080/"
        },
        "id": "b7_PbEH5b_v8",
        "outputId": "9046555c-5d74-4554-f322-4ab981577ba9"
      },
      "execution_count": 2,
      "outputs": [
        {
          "output_type": "stream",
          "name": "stdout",
          "text": [
            "Total cost : 13.41\n",
            "Money given back: 6.59\n"
          ]
        }
      ]
    },
    {
      "cell_type": "markdown",
      "source": [
        "3. You want to replace tiles in your bathroom which is exactly square and 5.5 feet is its length. If tiles cost 500 rs per square feet, how much will be the total cost to replace all tiles. Calculate and print the cost using python (Hint: Use power operator ** to find area of a square)"
      ],
      "metadata": {
        "id": "Zgd6j3D-daUd"
      }
    },
    {
      "cell_type": "code",
      "source": [
        "a = 5.5\n",
        "b= 500\n",
        "area = a**2\n",
        "cost = area * b\n",
        "print(area)\n",
        "print(cost)"
      ],
      "metadata": {
        "colab": {
          "base_uri": "https://localhost:8080/"
        },
        "id": "f90AADw2dUm7",
        "outputId": "f3a7401f-3944-40b6-aca1-cedf6e99201a"
      },
      "execution_count": 3,
      "outputs": [
        {
          "output_type": "stream",
          "name": "stdout",
          "text": [
            "30.25\n",
            "15125.0\n"
          ]
        }
      ]
    },
    {
      "cell_type": "markdown",
      "source": [
        "4. Print binary representation of nuber 17"
      ],
      "metadata": {
        "id": "rEz9sVPpeSWp"
      }
    },
    {
      "cell_type": "code",
      "source": [
        "num = 17\n",
        "print('Binary Number representation is',format(num,'b'))"
      ],
      "metadata": {
        "colab": {
          "base_uri": "https://localhost:8080/"
        },
        "id": "tFtfafoueJ5s",
        "outputId": "234034e5-e764-43b0-af32-f65c8d56900e"
      },
      "execution_count": 4,
      "outputs": [
        {
          "output_type": "stream",
          "name": "stdout",
          "text": [
            "Binary Number representation is 10001\n"
          ]
        }
      ]
    }
  ],
  "metadata": {
    "colab": {
      "provenance": []
    },
    "kernelspec": {
      "display_name": "Python 3",
      "name": "python3"
    }
  },
  "nbformat": 4,
  "nbformat_minor": 0
}